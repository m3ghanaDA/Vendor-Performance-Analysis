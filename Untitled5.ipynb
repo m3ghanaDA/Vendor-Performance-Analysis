{
 "cells": [
  {
   "cell_type": "code",
   "execution_count": 1,
   "id": "3c7d0ba0-92fc-4fe8-aef6-346484a012a5",
   "metadata": {},
   "outputs": [],
   "source": [
    "import pandas as pd\n",
    "import os\n",
    "from sqlalchemy import create_engine\n",
    "import logging\n",
    "import time \n",
    "\n"
   ]
  },
  {
   "cell_type": "code",
   "execution_count": 2,
   "id": "5a0b22d0-e3fc-4009-81ba-551fe624ec6f",
   "metadata": {},
   "outputs": [],
   "source": [
    "logging.basicConfig(\n",
    "    filename=\"logs/ingestion_db.log\",\n",
    "    level=logging.DEBUG,\n",
    "    format=\"%(asctime)s - %(levelname)s - %(message)s\",\n",
    "    filemode=\"a\"\n",
    ")\n",
    "\n"
   ]
  },
  {
   "cell_type": "code",
   "execution_count": 3,
   "id": "6e6e1e94-d987-40bc-8f0b-fa57d3990d98",
   "metadata": {},
   "outputs": [],
   "source": [
    "engine=create_engine('sqlite:///inventory.db')\n",
    "\n"
   ]
  },
  {
   "cell_type": "code",
   "execution_count": 4,
   "id": "38985bba-c0ff-4dc7-b447-72f2bc5984c6",
   "metadata": {},
   "outputs": [],
   "source": [
    "def ingest_db(df, table_name, engine):\n",
    "    '''This function will ingest the dataframe into database table'''\n",
    "    df.to_sql(table_name, con=engine, if_exists='replace', index=False)\n",
    "    \n"
   ]
  },
  {
   "cell_type": "code",
   "execution_count": 5,
   "id": "477f172e-6d67-4639-ab54-175cacbea8d3",
   "metadata": {},
   "outputs": [],
   "source": [
    "def load_raw_data():\n",
    "    '''This function will load the CSVs as dataframe and ingest into db'''\n",
    "    start=time.time()\n",
    "    for file in os.listdir('data'):\n",
    "        if '.csv' in file:\n",
    "            df=pd.read_csv('data/'+file)\n",
    "            logging.info(f'Ingesting {file} in db')\n",
    "            ingest_db(df, file[:-4], engine)\n",
    "    end=time.time()\n",
    "    total_time=(end-start)/60\n",
    "    logging.info('--------------Ingestion complete----------------')\n",
    "    logging.info(f'\\nTotal time taken: {total_time} minutes')\n",
    "\n"
   ]
  },
  {
   "cell_type": "code",
   "execution_count": 6,
   "id": "0d7b9559-578f-4c45-9a2f-cacabb8f8ca3",
   "metadata": {},
   "outputs": [],
   "source": [
    "if __name__ == '__main__':\n",
    "    load_raw_data()"
   ]
  }
 ],
 "metadata": {
  "kernelspec": {
   "display_name": "Python 3 (ipykernel)",
   "language": "python",
   "name": "python3"
  },
  "language_info": {
   "codemirror_mode": {
    "name": "ipython",
    "version": 3
   },
   "file_extension": ".py",
   "mimetype": "text/x-python",
   "name": "python",
   "nbconvert_exporter": "python",
   "pygments_lexer": "ipython3",
   "version": "3.11.5"
  }
 },
 "nbformat": 4,
 "nbformat_minor": 5
}
